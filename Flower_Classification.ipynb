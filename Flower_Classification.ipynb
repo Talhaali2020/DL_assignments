{
 "cells": [
  {
   "cell_type": "code",
   "execution_count": 6,
   "metadata": {},
   "outputs": [],
   "source": [
    "import cv2 \n",
    "import numpy as np\n",
    "import pandas as pd\n",
    "import os\n",
    "import tensorflow as tf\n",
    "import matplotlib.pyplot as plt"
   ]
  },
  {
   "cell_type": "code",
   "execution_count": 7,
   "metadata": {},
   "outputs": [
    {
     "data": {
      "text/plain": [
       "(4323,)"
      ]
     },
     "execution_count": 7,
     "metadata": {},
     "output_type": "execute_result"
    }
   ],
   "source": [
    "folder = r\"D:\\AIC\\Q2\\Datasets\\flowers\\daisy\"\n",
    "flowers = [r\"D:\\AIC\\Q2\\Datasets\\flowers\\daisy\",r\"D:\\AIC\\Q2\\Datasets\\flowers\\dandelion\",r\"D:\\AIC\\Q2\\Datasets\\flowers\\rose\",r\"D:\\AIC\\Q2\\Datasets\\flowers\\sunflower\",r\"D:\\AIC\\Q2\\Datasets\\flowers\\tulip\"]\n",
    "images = []\n",
    "labels = []\n",
    "i = 0\n",
    "for folder in flowers:\n",
    "    for filename in os.listdir(folder):\n",
    "        image = cv2.imread(os.path.join(folder,filename),0)\n",
    "        if image is not None:\n",
    "            images.append(image)\n",
    "            labels.append(i)\n",
    "    i = i+1\n",
    "images = np.array(images,dtype = object)\n",
    "\"\"\"Creating custom labels\"\"\"\n",
    "labels = np.array(labels)\n",
    "images.shape"
   ]
  },
  {
   "cell_type": "code",
   "execution_count": 8,
   "metadata": {},
   "outputs": [
    {
     "data": {
      "text/plain": [
       "(4323, 200, 200)"
      ]
     },
     "execution_count": 8,
     "metadata": {},
     "output_type": "execute_result"
    }
   ],
   "source": [
    "X = []\n",
    "for image in images:\n",
    "    \"\"\"\"resizing and normalizing every image\"\"\"\n",
    "    image = cv2.resize(image/255.0,(200,200))\n",
    "    X.append(image)\n",
    "X = np.array(X)\n",
    "X.shape"
   ]
  },
  {
   "cell_type": "code",
   "execution_count": 9,
   "metadata": {},
   "outputs": [
    {
     "data": {
      "text/plain": [
       "(TensorShape([4323, 200, 200]), TensorShape([4323]))"
      ]
     },
     "execution_count": 9,
     "metadata": {},
     "output_type": "execute_result"
    }
   ],
   "source": [
    "p = np.random.permutation(len(X))\n",
    "X = X[p]\n",
    "labels = labels[p]\n",
    "X = tf.convert_to_tensor(X)\n",
    "labels = tf.convert_to_tensor(labels)\n",
    "X.shape,labels.shape"
   ]
  },
  {
   "cell_type": "code",
   "execution_count": 10,
   "metadata": {},
   "outputs": [
    {
     "data": {
      "text/plain": [
       "4323"
      ]
     },
     "execution_count": 10,
     "metadata": {},
     "output_type": "execute_result"
    }
   ],
   "source": [
    "perc = int((X.shape[0]/100)*60)\n",
    "x_train = X[0:perc]\n",
    "y_train = labels[0:perc]\n",
    "x_test = X[perc:]\n",
    "y_test = labels[perc:]\n",
    "x_train.shape[0]+x_test.shape[0]"
   ]
  },
  {
   "cell_type": "code",
   "execution_count": 11,
   "metadata": {},
   "outputs": [],
   "source": [
    "model = tf.keras.models.Sequential()\n",
    "model.add(tf.keras.layers.Flatten())\n",
    "model.add(tf.keras.layers.Dense(128, activation=tf.nn.relu))\n",
    "model.add(tf.keras.layers.Dense(64, activation=tf.nn.relu))\n",
    "model.add(tf.keras.layers.Dense(32, activation=tf.nn.relu))\n",
    "model.add(tf.keras.layers.Dense(5, activation=tf.nn.softmax))"
   ]
  },
  {
   "cell_type": "code",
   "execution_count": 12,
   "metadata": {},
   "outputs": [
    {
     "name": "stdout",
     "output_type": "stream",
     "text": [
      "Epoch 1/50\n",
      "WARNING:tensorflow:Layer flatten is casting an input tensor from dtype float64 to the layer's dtype of float32, which is new behavior in TensorFlow 2.  The layer has dtype float32 because its dtype defaults to floatx.\n",
      "\n",
      "If you intended to run this layer in float32, you can safely ignore this warning. If in doubt, this warning is likely only an issue if you are porting a TensorFlow 1.X model to TensorFlow 2.\n",
      "\n",
      "To change all layers to have dtype float64 by default, call `tf.keras.backend.set_floatx('float64')`. To change just this layer, pass dtype='float64' to the layer constructor. If you are the author of this layer, you can disable autocasting by passing autocast=False to the base Layer constructor.\n",
      "\n",
      "82/82 - 5s - loss: 2.6972 - accuracy: 0.2379\n",
      "Epoch 2/50\n",
      "82/82 - 5s - loss: 1.8848 - accuracy: 0.2761\n",
      "Epoch 3/50\n",
      "82/82 - 5s - loss: 1.9282 - accuracy: 0.2927\n",
      "Epoch 4/50\n",
      "82/82 - 5s - loss: 1.6696 - accuracy: 0.3162\n",
      "Epoch 5/50\n",
      "82/82 - 4s - loss: 1.5908 - accuracy: 0.3112\n",
      "Epoch 6/50\n",
      "82/82 - 4s - loss: 1.6899 - accuracy: 0.2993\n",
      "Epoch 7/50\n",
      "82/82 - 4s - loss: 1.5466 - accuracy: 0.3212\n",
      "Epoch 8/50\n",
      "82/82 - 5s - loss: 1.5467 - accuracy: 0.3274\n",
      "Epoch 9/50\n",
      "82/82 - 5s - loss: 1.5734 - accuracy: 0.3189\n",
      "Epoch 10/50\n",
      "82/82 - 5s - loss: 1.4720 - accuracy: 0.3695\n",
      "Epoch 11/50\n",
      "82/82 - 5s - loss: 1.4758 - accuracy: 0.3722\n",
      "Epoch 12/50\n",
      "82/82 - 4s - loss: 1.4825 - accuracy: 0.3745\n",
      "Epoch 13/50\n",
      "82/82 - 5s - loss: 1.5022 - accuracy: 0.3459\n",
      "Epoch 14/50\n",
      "82/82 - 5s - loss: 1.4296 - accuracy: 0.4034\n",
      "Epoch 15/50\n",
      "82/82 - 5s - loss: 1.4195 - accuracy: 0.4030\n",
      "Epoch 16/50\n",
      "82/82 - 5s - loss: 1.5305 - accuracy: 0.3139\n",
      "Epoch 17/50\n",
      "82/82 - 5s - loss: 1.5791 - accuracy: 0.2877\n",
      "Epoch 18/50\n",
      "82/82 - 4s - loss: 1.5030 - accuracy: 0.3290\n",
      "Epoch 19/50\n",
      "82/82 - 4s - loss: 1.5568 - accuracy: 0.3263\n",
      "Epoch 20/50\n",
      "82/82 - 5s - loss: 1.4938 - accuracy: 0.3286\n",
      "Epoch 21/50\n",
      "82/82 - 5s - loss: 1.4643 - accuracy: 0.3560\n",
      "Epoch 22/50\n",
      "82/82 - 5s - loss: 1.4834 - accuracy: 0.3386\n",
      "Epoch 23/50\n",
      "82/82 - 5s - loss: 1.4736 - accuracy: 0.3494\n",
      "Epoch 24/50\n",
      "82/82 - 5s - loss: 1.4534 - accuracy: 0.3502\n",
      "Epoch 25/50\n",
      "82/82 - 5s - loss: 1.4265 - accuracy: 0.3810\n",
      "Epoch 26/50\n",
      "82/82 - 5s - loss: 1.4905 - accuracy: 0.3425\n",
      "Epoch 27/50\n",
      "82/82 - 6s - loss: 1.4314 - accuracy: 0.3984\n",
      "Epoch 28/50\n",
      "82/82 - 6s - loss: 1.4300 - accuracy: 0.3907\n",
      "Epoch 29/50\n",
      "82/82 - 6s - loss: 1.4301 - accuracy: 0.3714\n",
      "Epoch 30/50\n",
      "82/82 - 6s - loss: 1.4944 - accuracy: 0.3243\n",
      "Epoch 31/50\n",
      "82/82 - 6s - loss: 1.4962 - accuracy: 0.3290\n",
      "Epoch 32/50\n",
      "82/82 - 7s - loss: 1.4951 - accuracy: 0.3228\n",
      "Epoch 33/50\n",
      "82/82 - 5s - loss: 1.4895 - accuracy: 0.3378\n",
      "Epoch 34/50\n",
      "82/82 - 5s - loss: 1.5010 - accuracy: 0.3155\n",
      "Epoch 35/50\n",
      "82/82 - 5s - loss: 1.4411 - accuracy: 0.3509\n",
      "Epoch 36/50\n",
      "82/82 - 6s - loss: 1.4904 - accuracy: 0.3274\n",
      "Epoch 37/50\n",
      "82/82 - 4s - loss: 1.4712 - accuracy: 0.3274\n",
      "Epoch 38/50\n",
      "82/82 - 5s - loss: 1.5361 - accuracy: 0.3081\n",
      "Epoch 39/50\n",
      "82/82 - 5s - loss: 1.5156 - accuracy: 0.3085\n",
      "Epoch 40/50\n",
      "82/82 - 4s - loss: 1.4675 - accuracy: 0.3224\n",
      "Epoch 41/50\n",
      "82/82 - 5s - loss: 1.4476 - accuracy: 0.3340\n",
      "Epoch 42/50\n",
      "82/82 - 5s - loss: 1.4602 - accuracy: 0.3390\n",
      "Epoch 43/50\n",
      "82/82 - 4s - loss: 1.4341 - accuracy: 0.3448\n",
      "Epoch 44/50\n",
      "82/82 - 4s - loss: 1.4194 - accuracy: 0.3556\n",
      "Epoch 45/50\n",
      "82/82 - 5s - loss: 1.4456 - accuracy: 0.3463\n",
      "Epoch 46/50\n",
      "82/82 - 5s - loss: 1.4449 - accuracy: 0.3374\n",
      "Epoch 47/50\n",
      "82/82 - 5s - loss: 1.3935 - accuracy: 0.3621\n",
      "Epoch 48/50\n",
      "82/82 - 5s - loss: 1.4703 - accuracy: 0.3297\n",
      "Epoch 49/50\n",
      "82/82 - 5s - loss: 1.3941 - accuracy: 0.3621\n",
      "Epoch 50/50\n",
      "82/82 - 5s - loss: 1.3693 - accuracy: 0.3764\n"
     ]
    }
   ],
   "source": [
    "model.compile(optimizer=\"adam\", loss=\"sparse_categorical_crossentropy\", metrics=[\"accuracy\"])\n",
    "history = model.fit(x=x_train, y=y_train, epochs=50,verbose = 2)"
   ]
  },
  {
   "cell_type": "code",
   "execution_count": 13,
   "metadata": {},
   "outputs": [
    {
     "name": "stdout",
     "output_type": "stream",
     "text": [
      "55/55 [==============================] - 1s 22ms/step - loss: 1.6293 - accuracy: 0.2855\n"
     ]
    }
   ],
   "source": [
    "\"\"\"Evaluation Step\"\"\"\n",
    "model.evaluate(x=x_test, y=y_test)\n"
   ]
  },
  {
   "cell_type": "code",
   "execution_count": 17,
   "metadata": {},
   "outputs": [
    {
     "data": {
      "image/png": "[encoded data removed]",
      "text/plain": [
       "<Figure size 432x288 with 1 Axes>"
      ]
     },
     "metadata": {
      "needs_background": "light"
     },
     "output_type": "display_data"
    },
    {
     "data": {
      "image/png": "[encoded data removed]",
      "text/plain": [
       "<Figure size 432x288 with 1 Axes>"
      ]
     },
     "metadata": {
      "needs_background": "light"
     },
     "output_type": "display_data"
    }
   ],
   "source": [
    "\"\"\"Plotting Loss and Accuracy Of The Model\"\"\"\n",
    "loss_train = history.history['loss']\n",
    "epochs = range(50)\n",
    "plt.plot(epochs, loss_train, 'g', label='Training loss')\n",
    "plt.xlabel('Epochs')\n",
    "plt.ylabel('Loss')\n",
    "plt.legend()\n",
    "plt.show()\n",
    "acc_train = history.history['accuracy']\n",
    "epochs = range(50)\n",
    "plt.plot(epochs, acc_train, 'g', label='Training Accuracy')\n",
    "plt.xlabel('Epochs')\n",
    "plt.ylabel('Loss')\n",
    "plt.legend()\n",
    "plt.show()"
   ]
  },
  {
   "cell_type": "code",
   "execution_count": 18,
   "metadata": {},
   "outputs": [
    {
     "data": {
      "text/plain": [
       "0.8454741"
      ]
     },
     "execution_count": 18,
     "metadata": {},
     "output_type": "execute_result"
    }
   ],
   "source": [
    "\"\"\"Prediction Step\"\"\"\n",
    "prediction = model.predict(x_test)\n",
    "prediction.max()"
   ]
  },
  {
   "cell_type": "code",
   "execution_count": null,
   "metadata": {},
   "outputs": [],
   "source": []
  }
 ],
 "metadata": {
  "kernelspec": {
   "display_name": "Python 3",
   "language": "python",
   "name": "python3"
  },
  "language_info": {
   "codemirror_mode": {
    "name": "ipython",
    "version": 3
   },
   "file_extension": ".py",
   "mimetype": "text/x-python",
   "name": "python",
   "nbconvert_exporter": "python",
   "pygments_lexer": "ipython3",
   "version": "3.8.8"
  }
 },
 "nbformat": 4,
 "nbformat_minor": 4
}
